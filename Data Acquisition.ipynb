{
 "cells": [
  {
   "cell_type": "code",
   "execution_count": 1,
   "metadata": {
    "collapsed": true
   },
   "outputs": [],
   "source": []
  },
  {
   "cell_type": "code",
   "execution_count": null,
   "metadata": {
    "collapsed": true
   },
   "outputs": [],
   "source": []
  },
  {
   "cell_type": "code",
   "execution_count": null,
   "metadata": {
    "collapsed": true
   },
   "outputs": [],
   "source": []
  },
  {
   "cell_type": "code",
   "execution_count": null,
   "metadata": {
    "collapsed": true
   },
   "outputs": [],
   "source": []
  },
  {
   "cell_type": "code",
   "execution_count": null,
   "metadata": {
    "collapsed": true
   },
   "outputs": [],
   "source": []
  },
  {
   "cell_type": "code",
   "execution_count": null,
   "metadata": {
    "collapsed": true
   },
   "outputs": [],
   "source": []
  },
  {
   "cell_type": "code",
   "execution_count": null,
   "metadata": {
    "collapsed": true
   },
   "outputs": [],
   "source": []
  },
  {
   "cell_type": "code",
   "execution_count": null,
   "metadata": {
    "collapsed": true
   },
   "outputs": [],
   "source": []
  },
  {
   "cell_type": "code",
   "execution_count": null,
   "metadata": {
    "collapsed": true
   },
   "outputs": [],
   "source": [
    "\n",
    "\n",
    "\n"
   ]
  },
  {
   "cell_type": "code",
   "execution_count": 5,
   "metadata": {
    "collapsed": true
   },
   "outputs": [],
   "source": [
    "import openpyxl\n",
    "import glob\n",
    "import pandas as pd\n",
    "import re\n",
    "\n",
    "def from_sheets(file):\n",
    "    \n",
    "    sheet_names = pd.ExcelFile(file).sheet_names[1:]\n",
    "    \n",
    "    one_from_file= pd.DataFrame(pd.read_excel(file, sheet_name=sheet_names[0], header=0, convert_float=True).drop(0,axis=0))\n",
    "    one_from_file['Käyttöönottopvä'] = one_from_file['Käyttöönottopvä'].astype('datetime64[ns]')\n",
    "    one_from_file['Päätöspäivä'] = one_from_file['Päätöspäivä'].astype('datetime64[ns]')\n",
    "    \n",
    "    \n",
    "    for sheet in sheet_names[1:]:\n",
    "    \n",
    "        data = pd.read_excel(file, sheet_name=sheet, header=0, convert_float=True).drop(0,axis=0)\n",
    "        data['Käyttöönottopvä'] = data['Käyttöönottopvä'].astype('datetime64[ns]')\n",
    "        data['Päätöspäivä'] = data['Päätöspäivä'].astype('datetime64[ns]')\n",
    "        one_from_file = one_from_file.append(data)\n",
    "        \n",
    "    return one_from_file\n",
    "\n",
    "\n",
    "\n",
    "\n",
    "#for year in car_files2:\n",
    "def all_data_from_files():\n",
    "    \n",
    "    car_files = []\n",
    "    for file in glob.glob(\"*.xls\"):\n",
    "        car_files.append(file)\n",
    "    car_files\n",
    "    \n",
    "\n",
    "    \n",
    "    data_1st_year = from_sheets(car_files[0])\n",
    "    \n",
    "    for year in car_files[1:]:\n",
    "        \n",
    "        \n",
    "        data = from_sheets(year)\n",
    "        \n",
    "        data_1st_year = data_1st_year.append(data)\n",
    "        \n",
    "        \n",
    "    data_1st_year[\"Autovero\"] = pd.to_numeric(data_1st_year[\"Autovero\"], errors='coerce')\n",
    "    data_1st_year[\"Ajokm/1000\"] = pd.to_numeric(data_1st_year[\"Ajokm/1000\"], errors='coerce')\n",
    "    data_1st_year[\"Verotusarvo\"] = pd.to_numeric(data_1st_year[\"Verotusarvo\"], errors='coerce')    \n",
    "    \n",
    "    \n",
    "    return data_1st_year\n",
    "    \n",
    "def engine_power(col):\n",
    "    '''\n",
    "    Extracts engine power from string\n",
    "    '''\n",
    "    #x = re.findall('\\d+[KW]', str(col)) # Returns also 4WD\n",
    "    x = re.findall(' \\d+[K]', str(col)) # This works, matches numbers followed by K\n",
    "    x = re.sub('[^0-9]', '', str(x))\n",
    "    return(x)\n",
    "\n",
    "def engine_size(col):\n",
    "    '''\n",
    "    Extracts engine size from string\n",
    "    '''\n",
    "    x = re.findall('\\d\\.\\d', str(col)) # This works perfectly\n",
    "    x = re.sub('[^0-9.]','', str(x))\n",
    "    return(x)\n",
    "\n",
    "def door_number(col):\n",
    "    '''\n",
    "    Extracts number of doors from string\n",
    "    '''\n",
    "    x = re.findall(' \\d+[D]', str(col))\n",
    "    x = re.sub('[^0-9.]','', str(x))\n",
    "    return(x)\n",
    "\n",
    "def extract_D_one(col):\n",
    "    \n",
    "    x = re.findall('\\d\\.\\d[A-Z]+', str(col))\n",
    "    x = re.sub('[0-9.]',\"\", str(x)).strip(\"[']\")\n",
    "    return(x)\n",
    "\n",
    "    \n",
    "def data_munge(data):\n",
    "    '''\n",
    "    Column [Mallin tarkennin] has information about a car \n",
    "    \n",
    "    This function extracts information from column, and creates new columns based on info\n",
    "    '''\n",
    "    # Clean data \n",
    "    #data['Mallin tarkennin'] = data['Mallin tarkennin'].apply(lambda x: x.replace(\",\", \".\"))\n",
    "    data['Mallin tarkennin'] = data['Mallin tarkennin'].str.replace(\",\",\".\")\n",
    "\n",
    "    data['Mallin tarkennin'] = data['Mallin tarkennin'].str.upper() # All letters to capital\n",
    "    data['Mallin tarkennin'] = data['Mallin tarkennin'].map(lambda x: re.sub(' KW', 'KW', str(x))) # Remove whitespace before KW\n",
    "    \n",
    "    # New columns\n",
    "    data['diesel'] = data['Mallin tarkennin'].str.count(pat=' D ') # Look for D, if found prints 1\n",
    "    data['aut'] = data['Mallin tarkennin'].str.count(pat='AUT') # Look for AUT, if found print 1\n",
    "    data['neliveto'] = data['Mallin tarkennin'].str.count(pat='4WD') # Look for 4WD, if found print 1\n",
    "    \n",
    "    data['year_month'] = data[\"Päätöspäivä\"].dt.strftime('%Y-%m')\n",
    "    data['year'] = data['Päätöspäivä'].dt.year # Year column\n",
    "    data['month'] = data['Päätöspäivä'].dt.month # Month column\n",
    "    data['car_age'] = (data['Päätöspäivä']-(data['Käyttöönottopvä']))/ pd.Timedelta(365, unit='d') # Car age\n",
    "    data['engine_powers'] = data['Mallin tarkennin'].apply(engine_power) # Engine power in KW:s\n",
    "    data['engine_size'] = data['Mallin tarkennin'].apply(engine_size) # Engine size in cm\n",
    "    data['doors'] = data['Mallin tarkennin'].apply(door_number)\n",
    "    data['extract_D_one'] = data['Mallin tarkennin'].apply(extract_D_one)\n",
    "    \n",
    "    # Correct data types\n",
    "    data['engine_powers'] = pd.to_numeric(data['engine_powers'])\n",
    "    data['engine_size'] = pd.to_numeric(data['engine_size'])\n",
    "    data['doors'] = pd.to_numeric(data['doors'])\n",
    "\n",
    "    \n",
    "    return(data)\n",
    "\n"
   ]
  },
  {
   "cell_type": "code",
   "execution_count": 6,
   "metadata": {},
   "outputs": [
    {
     "name": "stderr",
     "output_type": "stream",
     "text": [
      "C:\\Users\\Manu\\AppData\\Local\\Continuum\\anaconda3\\lib\\site-packages\\pandas\\core\\frame.py:6211: FutureWarning: Sorting because non-concatenation axis is not aligned. A future version\n",
      "of pandas will change to not sort by default.\n",
      "\n",
      "To accept the future behavior, pass 'sort=False'.\n",
      "\n",
      "To retain the current behavior and silence the warning, pass 'sort=True'.\n",
      "\n",
      "  sort=sort)\n"
     ]
    }
   ],
   "source": [
    "data = all_data_from_files()"
   ]
  },
  {
   "cell_type": "code",
   "execution_count": 7,
   "metadata": {
    "collapsed": true
   },
   "outputs": [],
   "source": [
    "data = data_munge(data)"
   ]
  },
  {
   "cell_type": "code",
   "execution_count": 8,
   "metadata": {
    "collapsed": true
   },
   "outputs": [],
   "source": [
    "data.to_excel(r'data_with_features.xlsx', index = False)"
   ]
  },
  {
   "cell_type": "code",
   "execution_count": 27,
   "metadata": {},
   "outputs": [
    {
     "data": {
      "text/plain": [
       "Ajokm/1000                                float64\n",
       "Autovero                                  float64\n",
       "Kunto A=Alennettu                          object\n",
       "Kunto H=Huono N=Normaali Y=Hyvä            object\n",
       "Käyttöönottopvä                    datetime64[ns]\n",
       "Malli                                      object\n",
       "Mallin tarkennin                           object\n",
       "Merkki                                     object\n",
       "Päätöspäivä                        datetime64[ns]\n",
       "Verotusarvo                               float64\n",
       "dtype: object"
      ]
     },
     "execution_count": 27,
     "metadata": {},
     "output_type": "execute_result"
    }
   ],
   "source": [
    "data.dtypes"
   ]
  },
  {
   "cell_type": "code",
   "execution_count": 35,
   "metadata": {},
   "outputs": [
    {
     "data": {
      "text/html": [
       "<div>\n",
       "<style scoped>\n",
       "    .dataframe tbody tr th:only-of-type {\n",
       "        vertical-align: middle;\n",
       "    }\n",
       "\n",
       "    .dataframe tbody tr th {\n",
       "        vertical-align: top;\n",
       "    }\n",
       "\n",
       "    .dataframe thead th {\n",
       "        text-align: right;\n",
       "    }\n",
       "</style>\n",
       "<table border=\"1\" class=\"dataframe\">\n",
       "  <thead>\n",
       "    <tr style=\"text-align: right;\">\n",
       "      <th></th>\n",
       "      <th>Ajokm/1000</th>\n",
       "      <th>Autovero</th>\n",
       "      <th>Kunto A=Alennettu</th>\n",
       "      <th>Kunto H=Huono N=Normaali Y=Hyvä</th>\n",
       "      <th>Käyttöönottopvä</th>\n",
       "      <th>Malli</th>\n",
       "      <th>Mallin tarkennin</th>\n",
       "      <th>Merkki</th>\n",
       "      <th>Päätöspäivä</th>\n",
       "      <th>Verotusarvo</th>\n",
       "      <th>diesel</th>\n",
       "      <th>aut</th>\n",
       "      <th>neliveto</th>\n",
       "      <th>year_month</th>\n",
       "      <th>year</th>\n",
       "      <th>month</th>\n",
       "      <th>car_age</th>\n",
       "      <th>engine_powers</th>\n",
       "      <th>engine_size</th>\n",
       "      <th>doors</th>\n",
       "    </tr>\n",
       "  </thead>\n",
       "  <tbody>\n",
       "    <tr>\n",
       "      <th>1</th>\n",
       "      <td>185.0</td>\n",
       "      <td>1319.08</td>\n",
       "      <td>NaN</td>\n",
       "      <td>N</td>\n",
       "      <td>2004-11-10</td>\n",
       "      <td>156</td>\n",
       "      <td>1.9 D 5D STW 110KW</td>\n",
       "      <td>ALFA ROMEO</td>\n",
       "      <td>2012-01-11</td>\n",
       "      <td>5384.00</td>\n",
       "      <td>1</td>\n",
       "      <td>0</td>\n",
       "      <td>0</td>\n",
       "      <td>2012-01</td>\n",
       "      <td>2012</td>\n",
       "      <td>1</td>\n",
       "      <td>7.172603</td>\n",
       "      <td>110.0</td>\n",
       "      <td>1.9</td>\n",
       "      <td>5.0</td>\n",
       "    </tr>\n",
       "    <tr>\n",
       "      <th>2</th>\n",
       "      <td>78.0</td>\n",
       "      <td>5229.94</td>\n",
       "      <td>NaN</td>\n",
       "      <td>N</td>\n",
       "      <td>2008-06-11</td>\n",
       "      <td>159</td>\n",
       "      <td>2.4 D 5D STW 4WD 154KW</td>\n",
       "      <td>ALFA ROMEO</td>\n",
       "      <td>2012-01-20</td>\n",
       "      <td>18350.70</td>\n",
       "      <td>1</td>\n",
       "      <td>0</td>\n",
       "      <td>1</td>\n",
       "      <td>2012-01</td>\n",
       "      <td>2012</td>\n",
       "      <td>1</td>\n",
       "      <td>3.610959</td>\n",
       "      <td>154.0</td>\n",
       "      <td>2.4</td>\n",
       "      <td>5.0</td>\n",
       "    </tr>\n",
       "    <tr>\n",
       "      <th>3</th>\n",
       "      <td>101.0</td>\n",
       "      <td>7064.43</td>\n",
       "      <td>NaN</td>\n",
       "      <td>N</td>\n",
       "      <td>2007-11-12</td>\n",
       "      <td>159</td>\n",
       "      <td>3.2 5D STW 4WD 191KW</td>\n",
       "      <td>ALFA ROMEO</td>\n",
       "      <td>2012-01-26</td>\n",
       "      <td>16352.85</td>\n",
       "      <td>0</td>\n",
       "      <td>0</td>\n",
       "      <td>1</td>\n",
       "      <td>2012-01</td>\n",
       "      <td>2012</td>\n",
       "      <td>1</td>\n",
       "      <td>4.208219</td>\n",
       "      <td>191.0</td>\n",
       "      <td>3.2</td>\n",
       "      <td>5.0</td>\n",
       "    </tr>\n",
       "    <tr>\n",
       "      <th>4</th>\n",
       "      <td>241.0</td>\n",
       "      <td>704.45</td>\n",
       "      <td>NaN</td>\n",
       "      <td>N</td>\n",
       "      <td>2000-05-30</td>\n",
       "      <td>166</td>\n",
       "      <td>2.5 4D 140KW</td>\n",
       "      <td>ALFA ROMEO</td>\n",
       "      <td>2012-01-03</td>\n",
       "      <td>2243.50</td>\n",
       "      <td>0</td>\n",
       "      <td>0</td>\n",
       "      <td>0</td>\n",
       "      <td>2012-01</td>\n",
       "      <td>2012</td>\n",
       "      <td>1</td>\n",
       "      <td>11.602740</td>\n",
       "      <td>140.0</td>\n",
       "      <td>2.5</td>\n",
       "      <td>4.0</td>\n",
       "    </tr>\n",
       "    <tr>\n",
       "      <th>5</th>\n",
       "      <td>149.0</td>\n",
       "      <td>1211.13</td>\n",
       "      <td>NaN</td>\n",
       "      <td>N</td>\n",
       "      <td>1999-04-09</td>\n",
       "      <td>166</td>\n",
       "      <td>3.0 4D AUT 166KW</td>\n",
       "      <td>ALFA ROMEO</td>\n",
       "      <td>2012-01-23</td>\n",
       "      <td>3773.00</td>\n",
       "      <td>0</td>\n",
       "      <td>1</td>\n",
       "      <td>0</td>\n",
       "      <td>2012-01</td>\n",
       "      <td>2012</td>\n",
       "      <td>1</td>\n",
       "      <td>12.800000</td>\n",
       "      <td>166.0</td>\n",
       "      <td>3.0</td>\n",
       "      <td>4.0</td>\n",
       "    </tr>\n",
       "  </tbody>\n",
       "</table>\n",
       "</div>"
      ],
      "text/plain": [
       "   Ajokm/1000  Autovero Kunto A=Alennettu Kunto H=Huono N=Normaali Y=Hyvä  \\\n",
       "1       185.0   1319.08               NaN                               N   \n",
       "2        78.0   5229.94               NaN                               N   \n",
       "3       101.0   7064.43               NaN                               N   \n",
       "4       241.0    704.45               NaN                               N   \n",
       "5       149.0   1211.13               NaN                               N   \n",
       "\n",
       "  Käyttöönottopvä Malli        Mallin tarkennin      Merkki Päätöspäivä  \\\n",
       "1      2004-11-10   156      1.9 D 5D STW 110KW  ALFA ROMEO  2012-01-11   \n",
       "2      2008-06-11   159  2.4 D 5D STW 4WD 154KW  ALFA ROMEO  2012-01-20   \n",
       "3      2007-11-12   159    3.2 5D STW 4WD 191KW  ALFA ROMEO  2012-01-26   \n",
       "4      2000-05-30   166            2.5 4D 140KW  ALFA ROMEO  2012-01-03   \n",
       "5      1999-04-09   166        3.0 4D AUT 166KW  ALFA ROMEO  2012-01-23   \n",
       "\n",
       "   Verotusarvo  diesel  aut  neliveto year_month  year  month    car_age  \\\n",
       "1      5384.00       1    0         0    2012-01  2012      1   7.172603   \n",
       "2     18350.70       1    0         1    2012-01  2012      1   3.610959   \n",
       "3     16352.85       0    0         1    2012-01  2012      1   4.208219   \n",
       "4      2243.50       0    0         0    2012-01  2012      1  11.602740   \n",
       "5      3773.00       0    1         0    2012-01  2012      1  12.800000   \n",
       "\n",
       "   engine_powers  engine_size  doors  \n",
       "1          110.0          1.9    5.0  \n",
       "2          154.0          2.4    5.0  \n",
       "3          191.0          3.2    5.0  \n",
       "4          140.0          2.5    4.0  \n",
       "5          166.0          3.0    4.0  "
      ]
     },
     "execution_count": 35,
     "metadata": {},
     "output_type": "execute_result"
    }
   ],
   "source": [
    "data.head()"
   ]
  },
  {
   "cell_type": "code",
   "execution_count": null,
   "metadata": {
    "collapsed": true
   },
   "outputs": [],
   "source": []
  },
  {
   "cell_type": "code",
   "execution_count": null,
   "metadata": {
    "collapsed": true
   },
   "outputs": [],
   "source": []
  },
  {
   "cell_type": "code",
   "execution_count": null,
   "metadata": {
    "collapsed": true
   },
   "outputs": [],
   "source": []
  },
  {
   "cell_type": "code",
   "execution_count": null,
   "metadata": {
    "collapsed": true
   },
   "outputs": [],
   "source": []
  },
  {
   "cell_type": "code",
   "execution_count": null,
   "metadata": {
    "collapsed": true
   },
   "outputs": [],
   "source": []
  },
  {
   "cell_type": "code",
   "execution_count": null,
   "metadata": {
    "collapsed": true
   },
   "outputs": [],
   "source": []
  },
  {
   "cell_type": "code",
   "execution_count": null,
   "metadata": {
    "collapsed": true
   },
   "outputs": [],
   "source": []
  },
  {
   "cell_type": "code",
   "execution_count": null,
   "metadata": {
    "collapsed": true
   },
   "outputs": [],
   "source": []
  },
  {
   "cell_type": "code",
   "execution_count": null,
   "metadata": {
    "collapsed": true
   },
   "outputs": [],
   "source": []
  },
  {
   "cell_type": "code",
   "execution_count": null,
   "metadata": {
    "collapsed": true
   },
   "outputs": [],
   "source": []
  },
  {
   "cell_type": "code",
   "execution_count": null,
   "metadata": {
    "collapsed": true
   },
   "outputs": [],
   "source": [
    "\n",
    "    \n",
    "    "
   ]
  },
  {
   "cell_type": "code",
   "execution_count": null,
   "metadata": {
    "collapsed": true
   },
   "outputs": [],
   "source": []
  },
  {
   "cell_type": "code",
   "execution_count": null,
   "metadata": {
    "collapsed": true
   },
   "outputs": [],
   "source": []
  }
 ],
 "metadata": {
  "kernelspec": {
   "display_name": "Python 3",
   "language": "python",
   "name": "python3"
  },
  "language_info": {
   "codemirror_mode": {
    "name": "ipython",
    "version": 3
   },
   "file_extension": ".py",
   "mimetype": "text/x-python",
   "name": "python",
   "nbconvert_exporter": "python",
   "pygments_lexer": "ipython3",
   "version": "3.6.2"
  }
 },
 "nbformat": 4,
 "nbformat_minor": 2
}
